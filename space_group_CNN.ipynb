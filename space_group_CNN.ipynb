{
 "cells": [
  {
   "cell_type": "code",
   "execution_count": null,
   "metadata": {},
   "outputs": [],
   "source": [
    "import numpy as np\n",
    "import pandas as pd\n",
    "import matplotlib.pyplot as plt"
   ]
  },
  {
   "cell_type": "code",
   "execution_count": null,
   "metadata": {},
   "outputs": [],
   "source": [
    "#import os\n",
    "#os.environ[\"CUDA_DEVICE_ORDER\"]=\"PCI_BUS_ID\"   # see issue #152\n",
    "#os.environ[\"CUDA_VISIBLE_DEVICES\"]=\"2\""
   ]
  },
  {
   "cell_type": "code",
   "execution_count": null,
   "metadata": {},
   "outputs": [],
   "source": [
    "train_data = np.load('trainset_values.npy')\n",
    "test_data = np.load('testset_values.npy')\n",
    "val_data = np.load('valset_values.npy')"
   ]
  },
  {
   "cell_type": "code",
   "execution_count": null,
   "metadata": {},
   "outputs": [],
   "source": [
    "train_data = np.expand_dims(train_data, axis=2)\n",
    "test_data = np.expand_dims(test_data, axis=2)\n",
    "val_data = np.expand_dims(val_data, axis=2)"
   ]
  },
  {
   "cell_type": "code",
   "execution_count": null,
   "metadata": {},
   "outputs": [],
   "source": [
    "train_Y230 = np.load('./trainset_spg.npy')-1\n",
    "test_Y230 = np.load('./testset_spg.npy')-1\n",
    "val_Y230 = np.load('./valset_spg.npy')-1"
   ]
  },
  {
   "cell_type": "code",
   "execution_count": null,
   "metadata": {},
   "outputs": [],
   "source": [
    "from keras.utils.np_utils import to_categorical"
   ]
  },
  {
   "cell_type": "code",
   "execution_count": null,
   "metadata": {},
   "outputs": [],
   "source": [
    "train_Y230 = to_categorical(train_Y230, 230)\n",
    "test_Y230 = to_categorical(test_Y230, 230)\n",
    "val_Y230 = to_categorical(val_Y230, 230)"
   ]
  },
  {
   "cell_type": "raw",
   "metadata": {},
   "source": []
  },
  {
   "cell_type": "code",
   "execution_count": null,
   "metadata": {},
   "outputs": [],
   "source": [
    "from sklearn.model_selection import train_test_split\n",
    "from sklearn import metrics\n",
    "from sklearn.model_selection import KFold"
   ]
  },
  {
   "cell_type": "code",
   "execution_count": null,
   "metadata": {},
   "outputs": [],
   "source": [
    "#X_train, X_test, y_train, y_test = train_test_split(train_data, train_Y230, test_size=0.2, random_state=42)"
   ]
  },
  {
   "cell_type": "code",
   "execution_count": null,
   "metadata": {},
   "outputs": [],
   "source": [
    "from keras.utils.np_utils import to_categorical\n",
    "from keras.models import Sequential\n",
    "from keras.layers import Input, Dense, Flatten, merge, Input\n",
    "from keras.layers import Dropout, Activation, Bidirectional\n",
    "from keras.layers import Convolution1D, MaxPooling1D, AveragePooling1D, LSTM\n",
    "from keras.layers import ZeroPadding1D\n",
    "from keras.layers.noise import GaussianNoise\n",
    "from keras.optimizers import SGD\n",
    "import keras.callbacks\n",
    "from keras.models import Model\n",
    "from keras_self_attention import SeqSelfAttention"
   ]
  },
  {
   "cell_type": "code",
   "execution_count": null,
   "metadata": {
    "scrolled": true
   },
   "outputs": [],
   "source": [
    "model = Sequential()\n",
    "\n",
    "model.add(Convolution1D(80, 100, subsample_length = 5, border_mode = 'same', input_shape=(10001,1))) #add convolution layer\n",
    "model.add(Activation('relu')) #activation\n",
    "model.add(Dropout(0.3))\n",
    "model.add(AveragePooling1D(pool_length=3, stride=2)) #pooling layer\n",
    "model.add(Convolution1D(80, 50, subsample_length = 5, border_mode = 'same'))\n",
    "model.add(Activation('relu'))\n",
    "model.add(Dropout(0.3))\n",
    "model.add(AveragePooling1D(pool_length=3, stride=None))\n",
    "model.add(Convolution1D(80, 25, subsample_length = 2, border_mode ='same'))\n",
    "model.add(Activation('relu'))\n",
    "model.add(Dropout(0.3))\n",
    "model.add(AveragePooling1D(pool_length=3, stride=None))\n",
    "model.add(Activation('relu'))\n",
    "model.add(Dropout(0.3))\n",
    "model.add(AveragePooling1D(pool_length=3, stride=None))\n",
    "#model.add(Flatten())\n",
    "\n",
    "model.add(Bidirectional(LSTM(80,input_shape=(10001,1), return_sequences=True)))\n",
    "#model.add(SeqSelfAttention(attention_activation='sigmoid'))\n",
    "#model.add(Dropout(0.3))\n",
    "#model.add(LSTM(80,input_shape=train_data.shape, return_sequences=False))\n",
    "model.add(Flatten())\n",
    "#model.add(LSTM(80, input_shape=X_train.shape,return_sequences=True))\n",
    "model.add(Dense(2300))\n",
    "model.add(Activation('relu'))\n",
    "model.add(Dropout(0.5))\n",
    "model.add(Dense(1150))\n",
    "model.add(Activation('relu'))\n",
    "model.add(Dropout(0.5))\n",
    "model.add(Dense(230))\n",
    "model.add(Activation('softmax'))\n",
    "\n",
    "#Compile\n",
    "model.compile(loss='categorical_crossentropy', optimizer='Adam', metrics=['accuracy'])\n",
    "model.summary()\n",
    "#fit\n",
    "filepath='C:\\\\Users\\\\Arun.Sagotra\\\\Desktop\\\\CNN-Models\\\\XRD\\\\CuKa-5-105-september\\\\Model\\\\model_lstm.out'\n",
    "modelCheckpoint=keras.callbacks.ModelCheckpoint(filepath, monitor='val_loss', verbose=0, save_best_only=True, mode='auto')\n",
    "history = keras.callbacks.History()\n",
    "model.fit(train_data, train_Y230, batch_size=500, epochs=2, validation_data= (val_data, val_Y230), callbacks=[modelCheckpoint,history])\n",
    "# check the accuracy\n",
    "a = model.evaluate(train_data, train_Y230)\n",
    "print(a)\n",
    "\n",
    "print(\"===== Test Data =====\")\n",
    "a = model.evaluate(test_data, test_Y230)\n",
    "print(a)\n",
    "#save log after training\n",
    "acc_log = history.history['acc']\n",
    "val_acc_log = history.history['val_acc']\n",
    "loss_log = history.history['loss']\n",
    "val_loss_log = history.history['val_loss']\n",
    "acc_log = np.array(acc_log)\n",
    "val_acc_log = np.array(val_acc_log)\n",
    "loss_log = np.array(loss_log)\n",
    "val_loss_log = np.array(val_loss_log)\n",
    "mat = np.vstack((loss_log, acc_log, val_loss_log, val_acc_log))\n",
    "mat = np.transpose(mat)\n",
    "dataframe1 = pd.DataFrame(data=mat)\n",
    "dataframe1.to_csv('save_log_lstm.csv', sep=',', header=False, float_format='%.7f', index=False)"
   ]
  },
  {
   "cell_type": "code",
   "execution_count": null,
   "metadata": {},
   "outputs": [],
   "source": []
  }
 ],
 "metadata": {
  "kernelspec": {
   "display_name": "Python 3",
   "language": "python",
   "name": "python3"
  },
  "language_info": {
   "codemirror_mode": {
    "name": "ipython",
    "version": 3
   },
   "file_extension": ".py",
   "mimetype": "text/x-python",
   "name": "python",
   "nbconvert_exporter": "python",
   "pygments_lexer": "ipython3",
   "version": "3.7.3"
  }
 },
 "nbformat": 4,
 "nbformat_minor": 2
}
